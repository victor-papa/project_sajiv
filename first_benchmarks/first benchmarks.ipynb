{
 "cells": [
  {
   "cell_type": "code",
   "execution_count": 1,
   "metadata": {},
   "outputs": [],
   "source": [
    "#setup\n",
    "import numpy as np\n",
    "import pandas as pd\n",
    "import matplotlib.pyplot as plt\n",
    "%matplotlib inline\n",
    "import seaborn as sns\n",
    "from datetime import datetime\n",
    "from datetime import timedelta\n",
    "import timeit"
   ]
  },
  {
   "cell_type": "code",
   "execution_count": 2,
   "metadata": {},
   "outputs": [],
   "source": [
    "#Read in data\n",
    "df = pd.read_csv('../1 data preparation/20190401-20200312_items_prepped.csv')"
   ]
  },
  {
   "cell_type": "markdown",
   "metadata": {},
   "source": [
    "# First benchmarks"
   ]
  },
  {
   "cell_type": "markdown",
   "metadata": {},
   "source": [
    "From the titanic challenge we have learnt it is a good idea to start with some simple analysis that can be used as a benchmark for more complex analysis. For this we will simply check:\n",
    "- what's the profit/loss if we would always have betted (pre-game) on home favourites\n",
    "- what's the profit/loss if we would always have betted (pre-game) on away favourites\n",
    "- what's the profit/loss if we would always have betted (pre-game) on home underdogs\n",
    "- what's the profit/loss if we would always have betted (pre-game) on away underdogs"
   ]
  },
  {
   "cell_type": "markdown",
   "metadata": {},
   "source": [
    "We have 840 games with an observation just before the start of the game (mins15 == 0). Out of those 64% (541) were home favourite games:"
   ]
  },
  {
   "cell_type": "code",
   "execution_count": 3,
   "metadata": {},
   "outputs": [
    {
     "data": {
      "text/plain": [
       "<matplotlib.axes._subplots.AxesSubplot at 0x1cde3c7e2c8>"
      ]
     },
     "execution_count": 3,
     "metadata": {},
     "output_type": "execute_result"
    },
    {
     "data": {
      "image/png": "[encoded data removed]",
      "text/plain": [
       "<Figure size 432x288 with 1 Axes>"
      ]
     },
     "metadata": {
      "needs_background": "light"
     },
     "output_type": "display_data"
    }
   ],
   "source": [
    "sns.countplot(df[df['mins15'] == 0]['F_home_calib'])"
   ]
  },
  {
   "cell_type": "code",
   "execution_count": 4,
   "metadata": {},
   "outputs": [
    {
     "data": {
      "text/plain": [
       "True     0.644048\n",
       "False    0.355952\n",
       "Name: F_home_calib, dtype: float64"
      ]
     },
     "execution_count": 4,
     "metadata": {},
     "output_type": "execute_result"
    }
   ],
   "source": [
    "df[df['mins15'] == 0]['F_home_calib'].value_counts()/df[df['mins15'] == 0].shape[0]"
   ]
  },
  {
   "cell_type": "markdown",
   "metadata": {},
   "source": [
    "### Home favourites"
   ]
  },
  {
   "cell_type": "markdown",
   "metadata": {},
   "source": [
    "In our dataset the quotes for the home favourites are centered around 2:"
   ]
  },
  {
   "cell_type": "code",
   "execution_count": 5,
   "metadata": {},
   "outputs": [
    {
     "data": {
      "text/plain": [
       "<matplotlib.axes._subplots.AxesSubplot at 0x1cde3149248>"
      ]
     },
     "execution_count": 5,
     "metadata": {},
     "output_type": "execute_result"
    },
    {
     "data": {
      "image/png": "[encoded data removed]",
      "text/plain": [
       "<Figure size 432x288 with 1 Axes>"
      ]
     },
     "metadata": {
      "needs_background": "light"
     },
     "output_type": "display_data"
    }
   ],
   "source": [
    "sns.distplot(df[(df['mins15'] == 0) & (df['F_home_calib'])]['back_1'])"
   ]
  },
  {
   "cell_type": "markdown",
   "metadata": {},
   "source": [
    "Out of 541 games, home favourites win 274 times, 152 draws, 115 losses:"
   ]
  },
  {
   "cell_type": "code",
   "execution_count": 6,
   "metadata": {},
   "outputs": [],
   "source": [
    "#win\n",
    "df_sub = df[(df['mins15'] == 0) & (df['F_home_calib'])].copy()\n",
    "df_sub.loc[:,'win'] = 0"
   ]
  },
  {
   "cell_type": "code",
   "execution_count": 7,
   "metadata": {},
   "outputs": [],
   "source": [
    "df_sub.loc[((df_sub['endscore_label'].str[:2] == 'F+') & (df_sub['endscore_label'] != 'F+0')),'win'] = 1"
   ]
  },
  {
   "cell_type": "code",
   "execution_count": 8,
   "metadata": {},
   "outputs": [
    {
     "data": {
      "text/plain": [
       "1    274\n",
       "0    267\n",
       "Name: win, dtype: int64"
      ]
     },
     "execution_count": 8,
     "metadata": {},
     "output_type": "execute_result"
    }
   ],
   "source": [
    "df_sub['win'].value_counts()"
   ]
  },
  {
   "cell_type": "code",
   "execution_count": 12,
   "metadata": {},
   "outputs": [
    {
     "data": {
      "text/plain": [
       "F+0    152\n",
       "F+1    131\n",
       "F+2     83\n",
       "F-1     72\n",
       "F+3     52\n",
       "F-2     30\n",
       "F-3     13\n",
       "F+4      8\n",
       "Name: endscore_label, dtype: int64"
      ]
     },
     "execution_count": 12,
     "metadata": {},
     "output_type": "execute_result"
    }
   ],
   "source": [
    "df_sub['endscore_label'].value_counts()"
   ]
  },
  {
   "cell_type": "code",
   "execution_count": 13,
   "metadata": {},
   "outputs": [],
   "source": [
    "#factor odds\n",
    "df_sub.loc[:,'odds_factor'] = pd.cut(df_sub['back_1'],5)"
   ]
  },
  {
   "cell_type": "code",
   "execution_count": 14,
   "metadata": {},
   "outputs": [
    {
     "data": {
      "text/html": [
       "<div>\n",
       "<style scoped>\n",
       "    .dataframe tbody tr th:only-of-type {\n",
       "        vertical-align: middle;\n",
       "    }\n",
       "\n",
       "    .dataframe tbody tr th {\n",
       "        vertical-align: top;\n",
       "    }\n",
       "\n",
       "    .dataframe thead th {\n",
       "        text-align: right;\n",
       "    }\n",
       "</style>\n",
       "<table border=\"1\" class=\"dataframe\">\n",
       "  <thead>\n",
       "    <tr style=\"text-align: right;\">\n",
       "      <th></th>\n",
       "      <th>odds_factor</th>\n",
       "      <th>midpoint</th>\n",
       "    </tr>\n",
       "  </thead>\n",
       "  <tbody>\n",
       "    <tr>\n",
       "      <th>0</th>\n",
       "      <td>(1.118, 1.496]</td>\n",
       "      <td>1.363438</td>\n",
       "    </tr>\n",
       "    <tr>\n",
       "      <th>1</th>\n",
       "      <td>(1.496, 1.872]</td>\n",
       "      <td>1.694788</td>\n",
       "    </tr>\n",
       "    <tr>\n",
       "      <th>2</th>\n",
       "      <td>(1.872, 2.248]</td>\n",
       "      <td>2.053758</td>\n",
       "    </tr>\n",
       "    <tr>\n",
       "      <th>3</th>\n",
       "      <td>(2.248, 2.624]</td>\n",
       "      <td>2.423137</td>\n",
       "    </tr>\n",
       "    <tr>\n",
       "      <th>4</th>\n",
       "      <td>(2.624, 3.0]</td>\n",
       "      <td>2.773333</td>\n",
       "    </tr>\n",
       "  </tbody>\n",
       "</table>\n",
       "</div>"
      ],
      "text/plain": [
       "      odds_factor  midpoint\n",
       "0  (1.118, 1.496]  1.363438\n",
       "1  (1.496, 1.872]  1.694788\n",
       "2  (1.872, 2.248]  2.053758\n",
       "3  (2.248, 2.624]  2.423137\n",
       "4    (2.624, 3.0]  2.773333"
      ]
     },
     "execution_count": 14,
     "metadata": {},
     "output_type": "execute_result"
    }
   ],
   "source": [
    "#factor_midpoints\n",
    "yields = df_sub.groupby('odds_factor')['back_1'].mean().reset_index().sort_values(by=['odds_factor'])\n",
    "yields.columns = ['odds_factor', 'midpoint']\n",
    "yields"
   ]
  },
  {
   "cell_type": "code",
   "execution_count": 15,
   "metadata": {},
   "outputs": [
    {
     "data": {
      "text/plain": [
       "(1.872, 2.248]    165\n",
       "(1.496, 1.872]    165\n",
       "(2.248, 2.624]    102\n",
       "(1.118, 1.496]     64\n",
       "(2.624, 3.0]       45\n",
       "Name: odds_factor, dtype: int64"
      ]
     },
     "execution_count": 15,
     "metadata": {},
     "output_type": "execute_result"
    }
   ],
   "source": [
    "df_sub['odds_factor'].value_counts()"
   ]
  },
  {
   "cell_type": "code",
   "execution_count": 16,
   "metadata": {},
   "outputs": [
    {
     "data": {
      "text/plain": [
       "<matplotlib.axes._subplots.AxesSubplot at 0x1cde32fc048>"
      ]
     },
     "execution_count": 16,
     "metadata": {},
     "output_type": "execute_result"
    },
    {
     "data": {
      "image/png": "[encoded data removed]",
      "text/plain": [
       "<Figure size 432x288 with 1 Axes>"
      ]
     },
     "metadata": {
      "needs_background": "light"
     },
     "output_type": "display_data"
    }
   ],
   "source": [
    "pd.crosstab(df_sub['odds_factor'],df_sub['win']).plot(kind='bar',stacked=True)"
   ]
  },
  {
   "cell_type": "markdown",
   "metadata": {},
   "source": [
    "No surprise: big favourites win more than slight favourites."
   ]
  },
  {
   "cell_type": "markdown",
   "metadata": {},
   "source": [
    "#### Outcomes"
   ]
  },
  {
   "cell_type": "code",
   "execution_count": 17,
   "metadata": {},
   "outputs": [],
   "source": [
    "#profit\n",
    "df_sub.loc[:,'profit'] = df_sub['win'] * df_sub['back_1'] - 1"
   ]
  },
  {
   "cell_type": "code",
   "execution_count": 18,
   "metadata": {},
   "outputs": [
    {
     "data": {
      "text/html": [
       "<div>\n",
       "<style scoped>\n",
       "    .dataframe tbody tr th:only-of-type {\n",
       "        vertical-align: middle;\n",
       "    }\n",
       "\n",
       "    .dataframe tbody tr th {\n",
       "        vertical-align: top;\n",
       "    }\n",
       "\n",
       "    .dataframe thead th {\n",
       "        text-align: right;\n",
       "    }\n",
       "</style>\n",
       "<table border=\"1\" class=\"dataframe\">\n",
       "  <thead>\n",
       "    <tr style=\"text-align: right;\">\n",
       "      <th></th>\n",
       "      <th>odds_factor</th>\n",
       "      <th>midpoint</th>\n",
       "      <th>profit</th>\n",
       "    </tr>\n",
       "  </thead>\n",
       "  <tbody>\n",
       "    <tr>\n",
       "      <th>0</th>\n",
       "      <td>(1.118, 1.496]</td>\n",
       "      <td>1.363438</td>\n",
       "      <td>-0.71</td>\n",
       "    </tr>\n",
       "    <tr>\n",
       "      <th>1</th>\n",
       "      <td>(1.496, 1.872]</td>\n",
       "      <td>1.694788</td>\n",
       "      <td>-5.15</td>\n",
       "    </tr>\n",
       "    <tr>\n",
       "      <th>2</th>\n",
       "      <td>(1.872, 2.248]</td>\n",
       "      <td>2.053758</td>\n",
       "      <td>-9.65</td>\n",
       "    </tr>\n",
       "    <tr>\n",
       "      <th>3</th>\n",
       "      <td>(2.248, 2.624]</td>\n",
       "      <td>2.423137</td>\n",
       "      <td>-5.62</td>\n",
       "    </tr>\n",
       "    <tr>\n",
       "      <th>4</th>\n",
       "      <td>(2.624, 3.0]</td>\n",
       "      <td>2.773333</td>\n",
       "      <td>-0.74</td>\n",
       "    </tr>\n",
       "  </tbody>\n",
       "</table>\n",
       "</div>"
      ],
      "text/plain": [
       "      odds_factor  midpoint  profit\n",
       "0  (1.118, 1.496]  1.363438   -0.71\n",
       "1  (1.496, 1.872]  1.694788   -5.15\n",
       "2  (1.872, 2.248]  2.053758   -9.65\n",
       "3  (2.248, 2.624]  2.423137   -5.62\n",
       "4    (2.624, 3.0]  2.773333   -0.74"
      ]
     },
     "execution_count": 18,
     "metadata": {},
     "output_type": "execute_result"
    }
   ],
   "source": [
    "#profit per category\n",
    "profits = df_sub.groupby('odds_factor')['profit'].sum().reset_index().sort_values(by=['odds_factor'])\n",
    "yields = pd.merge(yields,profits,on='odds_factor')\n",
    "yields"
   ]
  },
  {
   "cell_type": "code",
   "execution_count": 19,
   "metadata": {},
   "outputs": [
    {
     "data": {
      "text/html": [
       "<div>\n",
       "<style scoped>\n",
       "    .dataframe tbody tr th:only-of-type {\n",
       "        vertical-align: middle;\n",
       "    }\n",
       "\n",
       "    .dataframe tbody tr th {\n",
       "        vertical-align: top;\n",
       "    }\n",
       "\n",
       "    .dataframe thead th {\n",
       "        text-align: right;\n",
       "    }\n",
       "</style>\n",
       "<table border=\"1\" class=\"dataframe\">\n",
       "  <thead>\n",
       "    <tr style=\"text-align: right;\">\n",
       "      <th></th>\n",
       "      <th>odds_factor</th>\n",
       "      <th>midpoint</th>\n",
       "      <th>profit</th>\n",
       "      <th>counts</th>\n",
       "    </tr>\n",
       "  </thead>\n",
       "  <tbody>\n",
       "    <tr>\n",
       "      <th>0</th>\n",
       "      <td>(1.118, 1.496]</td>\n",
       "      <td>1.363438</td>\n",
       "      <td>-0.71</td>\n",
       "      <td>64</td>\n",
       "    </tr>\n",
       "    <tr>\n",
       "      <th>1</th>\n",
       "      <td>(1.496, 1.872]</td>\n",
       "      <td>1.694788</td>\n",
       "      <td>-5.15</td>\n",
       "      <td>165</td>\n",
       "    </tr>\n",
       "    <tr>\n",
       "      <th>2</th>\n",
       "      <td>(1.872, 2.248]</td>\n",
       "      <td>2.053758</td>\n",
       "      <td>-9.65</td>\n",
       "      <td>165</td>\n",
       "    </tr>\n",
       "    <tr>\n",
       "      <th>3</th>\n",
       "      <td>(2.248, 2.624]</td>\n",
       "      <td>2.423137</td>\n",
       "      <td>-5.62</td>\n",
       "      <td>102</td>\n",
       "    </tr>\n",
       "    <tr>\n",
       "      <th>4</th>\n",
       "      <td>(2.624, 3.0]</td>\n",
       "      <td>2.773333</td>\n",
       "      <td>-0.74</td>\n",
       "      <td>45</td>\n",
       "    </tr>\n",
       "  </tbody>\n",
       "</table>\n",
       "</div>"
      ],
      "text/plain": [
       "      odds_factor  midpoint  profit  counts\n",
       "0  (1.118, 1.496]  1.363438   -0.71      64\n",
       "1  (1.496, 1.872]  1.694788   -5.15     165\n",
       "2  (1.872, 2.248]  2.053758   -9.65     165\n",
       "3  (2.248, 2.624]  2.423137   -5.62     102\n",
       "4    (2.624, 3.0]  2.773333   -0.74      45"
      ]
     },
     "execution_count": 19,
     "metadata": {},
     "output_type": "execute_result"
    }
   ],
   "source": [
    "#counts per category\n",
    "counts = df_sub.groupby('odds_factor')['profit'].count().reset_index().sort_values(by=['odds_factor'])\n",
    "counts.columns = ['odds_factor','counts']\n",
    "yields = pd.merge(yields,counts,on='odds_factor')\n",
    "yields"
   ]
  },
  {
   "cell_type": "code",
   "execution_count": 20,
   "metadata": {},
   "outputs": [],
   "source": [
    "#wins per category\n",
    "wins = df_sub.groupby('odds_factor')['win'].sum().reset_index().sort_values(by=['odds_factor'])\n",
    "wins.columns = ['odds_factor','wins']\n",
    "yields = pd.merge(yields,wins,on='odds_factor')\n",
    "yields['win_perc'] = yields['wins'] / yields['counts']"
   ]
  },
  {
   "cell_type": "code",
   "execution_count": 21,
   "metadata": {},
   "outputs": [
    {
     "data": {
      "text/html": [
       "<div>\n",
       "<style scoped>\n",
       "    .dataframe tbody tr th:only-of-type {\n",
       "        vertical-align: middle;\n",
       "    }\n",
       "\n",
       "    .dataframe tbody tr th {\n",
       "        vertical-align: top;\n",
       "    }\n",
       "\n",
       "    .dataframe thead th {\n",
       "        text-align: right;\n",
       "    }\n",
       "</style>\n",
       "<table border=\"1\" class=\"dataframe\">\n",
       "  <thead>\n",
       "    <tr style=\"text-align: right;\">\n",
       "      <th></th>\n",
       "      <th>odds_factor</th>\n",
       "      <th>midpoint</th>\n",
       "      <th>profit</th>\n",
       "      <th>counts</th>\n",
       "      <th>wins</th>\n",
       "      <th>win_perc</th>\n",
       "      <th>yield</th>\n",
       "    </tr>\n",
       "  </thead>\n",
       "  <tbody>\n",
       "    <tr>\n",
       "      <th>0</th>\n",
       "      <td>(1.118, 1.496]</td>\n",
       "      <td>1.363438</td>\n",
       "      <td>-0.71</td>\n",
       "      <td>64</td>\n",
       "      <td>47</td>\n",
       "      <td>0.734375</td>\n",
       "      <td>-0.011094</td>\n",
       "    </tr>\n",
       "    <tr>\n",
       "      <th>1</th>\n",
       "      <td>(1.496, 1.872]</td>\n",
       "      <td>1.694788</td>\n",
       "      <td>-5.15</td>\n",
       "      <td>165</td>\n",
       "      <td>95</td>\n",
       "      <td>0.575758</td>\n",
       "      <td>-0.031212</td>\n",
       "    </tr>\n",
       "    <tr>\n",
       "      <th>2</th>\n",
       "      <td>(1.872, 2.248]</td>\n",
       "      <td>2.053758</td>\n",
       "      <td>-9.65</td>\n",
       "      <td>165</td>\n",
       "      <td>76</td>\n",
       "      <td>0.460606</td>\n",
       "      <td>-0.058485</td>\n",
       "    </tr>\n",
       "    <tr>\n",
       "      <th>3</th>\n",
       "      <td>(2.248, 2.624]</td>\n",
       "      <td>2.423137</td>\n",
       "      <td>-5.62</td>\n",
       "      <td>102</td>\n",
       "      <td>40</td>\n",
       "      <td>0.392157</td>\n",
       "      <td>-0.055098</td>\n",
       "    </tr>\n",
       "    <tr>\n",
       "      <th>4</th>\n",
       "      <td>(2.624, 3.0]</td>\n",
       "      <td>2.773333</td>\n",
       "      <td>-0.74</td>\n",
       "      <td>45</td>\n",
       "      <td>16</td>\n",
       "      <td>0.355556</td>\n",
       "      <td>-0.016444</td>\n",
       "    </tr>\n",
       "  </tbody>\n",
       "</table>\n",
       "</div>"
      ],
      "text/plain": [
       "      odds_factor  midpoint  profit  counts  wins  win_perc     yield\n",
       "0  (1.118, 1.496]  1.363438   -0.71      64    47  0.734375 -0.011094\n",
       "1  (1.496, 1.872]  1.694788   -5.15     165    95  0.575758 -0.031212\n",
       "2  (1.872, 2.248]  2.053758   -9.65     165    76  0.460606 -0.058485\n",
       "3  (2.248, 2.624]  2.423137   -5.62     102    40  0.392157 -0.055098\n",
       "4    (2.624, 3.0]  2.773333   -0.74      45    16  0.355556 -0.016444"
      ]
     },
     "execution_count": 21,
     "metadata": {},
     "output_type": "execute_result"
    }
   ],
   "source": [
    "#yields per category (percentage profit)\n",
    "yields.loc[:,'yield'] = yields['profit'] / yields['counts']\n",
    "yields"
   ]
  },
  {
   "cell_type": "markdown",
   "metadata": {},
   "source": [
    "In all categories, betting on the home favourite leads to a loss in our data sample. Now the question is, is this significant?"
   ]
  },
  {
   "cell_type": "markdown",
   "metadata": {},
   "source": [
    "Bets are binary, you either win or lose. The binomial distribution can be used to inform us about the possible distribution of wins and losses for a sample of bets that are subject to randomness. For a sample of n bets with a 'true' win probability of p, the **standard deviation** of **respectively win percentages** and **yields (profit over turnover)**, is given by ([source](https://www.sportstradingnetwork.com/article/how-to-model-your-range-of-possible-betting-returns/)):"
   ]
  },
  {
   "cell_type": "markdown",
   "metadata": {},
   "source": [
    "<img src=\"../0 images/binomial_stdev.png\">"
   ]
  },
  {
   "cell_type": "markdown",
   "metadata": {},
   "source": [
    "For p we will use the probability implied in the odds: p = 1/odds.\n",
    "\n",
    "We will calculate this for every bucket's midpoint."
   ]
  },
  {
   "cell_type": "code",
   "execution_count": 22,
   "metadata": {},
   "outputs": [
    {
     "data": {
      "text/html": [
       "<div>\n",
       "<style scoped>\n",
       "    .dataframe tbody tr th:only-of-type {\n",
       "        vertical-align: middle;\n",
       "    }\n",
       "\n",
       "    .dataframe tbody tr th {\n",
       "        vertical-align: top;\n",
       "    }\n",
       "\n",
       "    .dataframe thead th {\n",
       "        text-align: right;\n",
       "    }\n",
       "</style>\n",
       "<table border=\"1\" class=\"dataframe\">\n",
       "  <thead>\n",
       "    <tr style=\"text-align: right;\">\n",
       "      <th></th>\n",
       "      <th>odds_factor</th>\n",
       "      <th>midpoint</th>\n",
       "      <th>profit</th>\n",
       "      <th>counts</th>\n",
       "      <th>wins</th>\n",
       "      <th>win_perc</th>\n",
       "      <th>yield</th>\n",
       "      <th>p_win</th>\n",
       "      <th>stdev</th>\n",
       "      <th>nr_stdevs</th>\n",
       "    </tr>\n",
       "  </thead>\n",
       "  <tbody>\n",
       "    <tr>\n",
       "      <th>0</th>\n",
       "      <td>(1.118, 1.496]</td>\n",
       "      <td>1.363438</td>\n",
       "      <td>-0.71</td>\n",
       "      <td>64</td>\n",
       "      <td>47</td>\n",
       "      <td>0.734375</td>\n",
       "      <td>-0.011094</td>\n",
       "      <td>0.733440</td>\n",
       "      <td>0.075357</td>\n",
       "      <td>-0.147215</td>\n",
       "    </tr>\n",
       "    <tr>\n",
       "      <th>1</th>\n",
       "      <td>(1.496, 1.872]</td>\n",
       "      <td>1.694788</td>\n",
       "      <td>-5.15</td>\n",
       "      <td>165</td>\n",
       "      <td>95</td>\n",
       "      <td>0.575758</td>\n",
       "      <td>-0.031212</td>\n",
       "      <td>0.590044</td>\n",
       "      <td>0.064891</td>\n",
       "      <td>-0.480993</td>\n",
       "    </tr>\n",
       "    <tr>\n",
       "      <th>2</th>\n",
       "      <td>(1.872, 2.248]</td>\n",
       "      <td>2.053758</td>\n",
       "      <td>-9.65</td>\n",
       "      <td>165</td>\n",
       "      <td>76</td>\n",
       "      <td>0.460606</td>\n",
       "      <td>-0.058485</td>\n",
       "      <td>0.486912</td>\n",
       "      <td>0.079915</td>\n",
       "      <td>-0.731838</td>\n",
       "    </tr>\n",
       "    <tr>\n",
       "      <th>3</th>\n",
       "      <td>(2.248, 2.624]</td>\n",
       "      <td>2.423137</td>\n",
       "      <td>-5.62</td>\n",
       "      <td>102</td>\n",
       "      <td>40</td>\n",
       "      <td>0.392157</td>\n",
       "      <td>-0.055098</td>\n",
       "      <td>0.412688</td>\n",
       "      <td>0.118120</td>\n",
       "      <td>-0.466458</td>\n",
       "    </tr>\n",
       "    <tr>\n",
       "      <th>4</th>\n",
       "      <td>(2.624, 3.0]</td>\n",
       "      <td>2.773333</td>\n",
       "      <td>-0.74</td>\n",
       "      <td>45</td>\n",
       "      <td>16</td>\n",
       "      <td>0.355556</td>\n",
       "      <td>-0.016444</td>\n",
       "      <td>0.360577</td>\n",
       "      <td>0.198513</td>\n",
       "      <td>-0.082838</td>\n",
       "    </tr>\n",
       "  </tbody>\n",
       "</table>\n",
       "</div>"
      ],
      "text/plain": [
       "      odds_factor  midpoint  profit  counts  wins  win_perc     yield  \\\n",
       "0  (1.118, 1.496]  1.363438   -0.71      64    47  0.734375 -0.011094   \n",
       "1  (1.496, 1.872]  1.694788   -5.15     165    95  0.575758 -0.031212   \n",
       "2  (1.872, 2.248]  2.053758   -9.65     165    76  0.460606 -0.058485   \n",
       "3  (2.248, 2.624]  2.423137   -5.62     102    40  0.392157 -0.055098   \n",
       "4    (2.624, 3.0]  2.773333   -0.74      45    16  0.355556 -0.016444   \n",
       "\n",
       "      p_win     stdev  nr_stdevs  \n",
       "0  0.733440  0.075357  -0.147215  \n",
       "1  0.590044  0.064891  -0.480993  \n",
       "2  0.486912  0.079915  -0.731838  \n",
       "3  0.412688  0.118120  -0.466458  \n",
       "4  0.360577  0.198513  -0.082838  "
      ]
     },
     "execution_count": 22,
     "metadata": {},
     "output_type": "execute_result"
    }
   ],
   "source": [
    "yields['p_win'] = 1 / yields['midpoint']\n",
    "yields['stdev'] = np.sqrt(yields['midpoint']-1)/np.sqrt(yields['counts'])\n",
    "yields['nr_stdevs'] = yields['yield'] / yields['stdev']\n",
    "yields"
   ]
  },
  {
   "cell_type": "markdown",
   "metadata": {},
   "source": [
    "So all these negative yields are within 1 standard deviation, it could be by chance..."
   ]
  },
  {
   "cell_type": "markdown",
   "metadata": {},
   "source": [
    "In what follows we will repeat the analysis for away favourites, home underdogs, away underdogs, and betting the draw. For this we build a routine."
   ]
  },
  {
   "cell_type": "markdown",
   "metadata": {},
   "source": [
    "## Routine"
   ]
  },
  {
   "cell_type": "code",
   "execution_count": 23,
   "metadata": {},
   "outputs": [],
   "source": [
    "def profit_table(df, mins15 = 0, homefav = True, bet = \"back_1\", buckets = 5, qcut = False):\n",
    "    '''\n",
    "    This function takes in the whole prepped dataframe and some strategy parameters.\n",
    "    bet should be \"back_1\", \"back_X\" or \"back_2\"\n",
    "    It returns a table for profit analysis.\n",
    "    '''\n",
    "    #subset\n",
    "    if (homefav):\n",
    "        df_sub = df[(df['mins15'] == mins15) & (df['F_home_calib'])].copy()\n",
    "    else:\n",
    "        df_sub = df[(df['mins15'] == mins15) & (~df['F_home_calib'])].copy()\n",
    "    \n",
    "    #bet_on_fav\n",
    "    if ((homefav & (bet == \"back_1\")) | (~homefav & (bet == \"back_2\"))):\n",
    "        bet_on_fav = True\n",
    "    else:\n",
    "        bet_on_fav = False\n",
    "    \n",
    "    #win\n",
    "    df_sub.loc[:,'win'] = 0\n",
    "    if (bet_on_fav):\n",
    "        df_sub.loc[((df_sub['endscore_label'].str[:2] == 'F+') & ~(df_sub['endscore_label']=='F+0')),'win'] = 1\n",
    "    elif (bet == \"back_X\"):\n",
    "        df_sub.loc[(df_sub['endscore_label']=='F+0'),'win'] = 1\n",
    "    else:\n",
    "        df_sub.loc[(df_sub['endscore_label'].str[:2] == 'F-'),'win'] = 1\n",
    "    \n",
    "    #factor odds\n",
    "    if qcut:\n",
    "        df_sub.loc[:,'odds_factor'] = pd.qcut(df_sub[bet],buckets)\n",
    "    else:\n",
    "        df_sub.loc[:,'odds_factor'] = pd.cut(df_sub[bet],buckets)\n",
    "    \n",
    "    #profit\n",
    "    df_sub.loc[:,'profit'] = df_sub['win'] * df_sub[bet] - 1\n",
    "    \n",
    "    #midpoint per category\n",
    "    yields = df_sub.groupby('odds_factor')[bet].mean().reset_index().sort_values(by=['odds_factor'])\n",
    "    yields.columns = ['odds_factor', 'midpoint']\n",
    "    \n",
    "    #profit per category\n",
    "    profits = df_sub.groupby('odds_factor')['profit'].sum().reset_index().sort_values(by=['odds_factor'])\n",
    "    yields = pd.merge(yields,profits,on='odds_factor')\n",
    "    \n",
    "    #counts per category\n",
    "    counts = df_sub.groupby('odds_factor')['profit'].count().reset_index().sort_values(by=['odds_factor'])\n",
    "    counts.columns = ['odds_factor','counts']\n",
    "    yields = pd.merge(yields,counts,on='odds_factor')\n",
    "    \n",
    "    #wins per category\n",
    "    wins = df_sub.groupby('odds_factor')['win'].sum().reset_index().sort_values(by=['odds_factor'])\n",
    "    wins.columns = ['odds_factor','wins']\n",
    "    yields = pd.merge(yields,wins,on='odds_factor')\n",
    "    yields['win_perc'] = yields['wins'] / yields['counts']\n",
    "    \n",
    "    #yields per category (percentage profit)\n",
    "    yields.loc[:,'yield'] = yields['profit'] / yields['counts']\n",
    "    \n",
    "    #nr_stdevs per category\n",
    "    yields['p_win'] = 1 / yields['midpoint']\n",
    "    yields['stdev'] = np.sqrt(yields['midpoint']-1)/np.sqrt(yields['counts'])\n",
    "    yields['nr_stdevs'] = yields['yield'] / yields['stdev']\n",
    "    \n",
    "    return yields"
   ]
  },
  {
   "cell_type": "markdown",
   "metadata": {},
   "source": [
    "### home favourites"
   ]
  },
  {
   "cell_type": "code",
   "execution_count": 24,
   "metadata": {},
   "outputs": [
    {
     "data": {
      "text/html": [
       "<div>\n",
       "<style scoped>\n",
       "    .dataframe tbody tr th:only-of-type {\n",
       "        vertical-align: middle;\n",
       "    }\n",
       "\n",
       "    .dataframe tbody tr th {\n",
       "        vertical-align: top;\n",
       "    }\n",
       "\n",
       "    .dataframe thead th {\n",
       "        text-align: right;\n",
       "    }\n",
       "</style>\n",
       "<table border=\"1\" class=\"dataframe\">\n",
       "  <thead>\n",
       "    <tr style=\"text-align: right;\">\n",
       "      <th></th>\n",
       "      <th>odds_factor</th>\n",
       "      <th>midpoint</th>\n",
       "      <th>profit</th>\n",
       "      <th>counts</th>\n",
       "      <th>wins</th>\n",
       "      <th>win_perc</th>\n",
       "      <th>yield</th>\n",
       "      <th>p_win</th>\n",
       "      <th>stdev</th>\n",
       "      <th>nr_stdevs</th>\n",
       "    </tr>\n",
       "  </thead>\n",
       "  <tbody>\n",
       "    <tr>\n",
       "      <th>0</th>\n",
       "      <td>(1.1190000000000002, 1.61]</td>\n",
       "      <td>1.444128</td>\n",
       "      <td>-0.60</td>\n",
       "      <td>109</td>\n",
       "      <td>76</td>\n",
       "      <td>0.697248</td>\n",
       "      <td>-0.005505</td>\n",
       "      <td>0.692459</td>\n",
       "      <td>0.063832</td>\n",
       "      <td>-0.086235</td>\n",
       "    </tr>\n",
       "    <tr>\n",
       "      <th>1</th>\n",
       "      <td>(1.61, 1.85]</td>\n",
       "      <td>1.737143</td>\n",
       "      <td>-2.86</td>\n",
       "      <td>112</td>\n",
       "      <td>63</td>\n",
       "      <td>0.562500</td>\n",
       "      <td>-0.025536</td>\n",
       "      <td>0.575658</td>\n",
       "      <td>0.081127</td>\n",
       "      <td>-0.314761</td>\n",
       "    </tr>\n",
       "    <tr>\n",
       "      <th>2</th>\n",
       "      <td>(1.85, 2.08]</td>\n",
       "      <td>1.975752</td>\n",
       "      <td>-4.21</td>\n",
       "      <td>113</td>\n",
       "      <td>55</td>\n",
       "      <td>0.486726</td>\n",
       "      <td>-0.037257</td>\n",
       "      <td>0.506136</td>\n",
       "      <td>0.092925</td>\n",
       "      <td>-0.400934</td>\n",
       "    </tr>\n",
       "    <tr>\n",
       "      <th>3</th>\n",
       "      <td>(2.08, 2.36]</td>\n",
       "      <td>2.225149</td>\n",
       "      <td>-9.94</td>\n",
       "      <td>101</td>\n",
       "      <td>41</td>\n",
       "      <td>0.405941</td>\n",
       "      <td>-0.098416</td>\n",
       "      <td>0.449408</td>\n",
       "      <td>0.110137</td>\n",
       "      <td>-0.893576</td>\n",
       "    </tr>\n",
       "    <tr>\n",
       "      <th>4</th>\n",
       "      <td>(2.36, 3.0]</td>\n",
       "      <td>2.620377</td>\n",
       "      <td>-4.26</td>\n",
       "      <td>106</td>\n",
       "      <td>39</td>\n",
       "      <td>0.367925</td>\n",
       "      <td>-0.040189</td>\n",
       "      <td>0.381624</td>\n",
       "      <td>0.123639</td>\n",
       "      <td>-0.325049</td>\n",
       "    </tr>\n",
       "  </tbody>\n",
       "</table>\n",
       "</div>"
      ],
      "text/plain": [
       "                  odds_factor  midpoint  profit  counts  wins  win_perc  \\\n",
       "0  (1.1190000000000002, 1.61]  1.444128   -0.60     109    76  0.697248   \n",
       "1                (1.61, 1.85]  1.737143   -2.86     112    63  0.562500   \n",
       "2                (1.85, 2.08]  1.975752   -4.21     113    55  0.486726   \n",
       "3                (2.08, 2.36]  2.225149   -9.94     101    41  0.405941   \n",
       "4                 (2.36, 3.0]  2.620377   -4.26     106    39  0.367925   \n",
       "\n",
       "      yield     p_win     stdev  nr_stdevs  \n",
       "0 -0.005505  0.692459  0.063832  -0.086235  \n",
       "1 -0.025536  0.575658  0.081127  -0.314761  \n",
       "2 -0.037257  0.506136  0.092925  -0.400934  \n",
       "3 -0.098416  0.449408  0.110137  -0.893576  \n",
       "4 -0.040189  0.381624  0.123639  -0.325049  "
      ]
     },
     "execution_count": 24,
     "metadata": {},
     "output_type": "execute_result"
    }
   ],
   "source": [
    "profit_table(df, mins15 = 0, homefav = True, bet = \"back_1\", buckets = 5, qcut = True)"
   ]
  },
  {
   "cell_type": "markdown",
   "metadata": {},
   "source": [
    "Betting on the home favourite leads to negative yields in every category. All within 1 standard deviation so it could be by chance."
   ]
  },
  {
   "cell_type": "markdown",
   "metadata": {},
   "source": [
    "### away favourites"
   ]
  },
  {
   "cell_type": "code",
   "execution_count": 33,
   "metadata": {},
   "outputs": [
    {
     "data": {
      "text/html": [
       "<div>\n",
       "<style scoped>\n",
       "    .dataframe tbody tr th:only-of-type {\n",
       "        vertical-align: middle;\n",
       "    }\n",
       "\n",
       "    .dataframe tbody tr th {\n",
       "        vertical-align: top;\n",
       "    }\n",
       "\n",
       "    .dataframe thead th {\n",
       "        text-align: right;\n",
       "    }\n",
       "</style>\n",
       "<table border=\"1\" class=\"dataframe\">\n",
       "  <thead>\n",
       "    <tr style=\"text-align: right;\">\n",
       "      <th></th>\n",
       "      <th>odds_factor</th>\n",
       "      <th>midpoint</th>\n",
       "      <th>profit</th>\n",
       "      <th>counts</th>\n",
       "      <th>wins</th>\n",
       "      <th>win_perc</th>\n",
       "      <th>yield</th>\n",
       "      <th>p_win</th>\n",
       "      <th>stdev</th>\n",
       "      <th>nr_stdevs</th>\n",
       "    </tr>\n",
       "  </thead>\n",
       "  <tbody>\n",
       "    <tr>\n",
       "      <th>0</th>\n",
       "      <td>(1.169, 1.47]</td>\n",
       "      <td>1.359524</td>\n",
       "      <td>3.34</td>\n",
       "      <td>21</td>\n",
       "      <td>18</td>\n",
       "      <td>0.857143</td>\n",
       "      <td>0.159048</td>\n",
       "      <td>0.735552</td>\n",
       "      <td>0.130844</td>\n",
       "      <td>1.215550</td>\n",
       "    </tr>\n",
       "    <tr>\n",
       "      <th>1</th>\n",
       "      <td>(1.47, 1.57]</td>\n",
       "      <td>1.527619</td>\n",
       "      <td>-1.20</td>\n",
       "      <td>21</td>\n",
       "      <td>13</td>\n",
       "      <td>0.619048</td>\n",
       "      <td>-0.057143</td>\n",
       "      <td>0.654613</td>\n",
       "      <td>0.158508</td>\n",
       "      <td>-0.360505</td>\n",
       "    </tr>\n",
       "    <tr>\n",
       "      <th>2</th>\n",
       "      <td>(1.57, 1.66]</td>\n",
       "      <td>1.626316</td>\n",
       "      <td>-2.73</td>\n",
       "      <td>19</td>\n",
       "      <td>10</td>\n",
       "      <td>0.526316</td>\n",
       "      <td>-0.143684</td>\n",
       "      <td>0.614887</td>\n",
       "      <td>0.181560</td>\n",
       "      <td>-0.791387</td>\n",
       "    </tr>\n",
       "    <tr>\n",
       "      <th>3</th>\n",
       "      <td>(1.66, 1.72]</td>\n",
       "      <td>1.695500</td>\n",
       "      <td>2.02</td>\n",
       "      <td>20</td>\n",
       "      <td>13</td>\n",
       "      <td>0.650000</td>\n",
       "      <td>0.101000</td>\n",
       "      <td>0.589797</td>\n",
       "      <td>0.186481</td>\n",
       "      <td>0.541611</td>\n",
       "    </tr>\n",
       "    <tr>\n",
       "      <th>4</th>\n",
       "      <td>(1.72, 1.78]</td>\n",
       "      <td>1.756500</td>\n",
       "      <td>-0.66</td>\n",
       "      <td>20</td>\n",
       "      <td>11</td>\n",
       "      <td>0.550000</td>\n",
       "      <td>-0.033000</td>\n",
       "      <td>0.569314</td>\n",
       "      <td>0.194487</td>\n",
       "      <td>-0.169678</td>\n",
       "    </tr>\n",
       "    <tr>\n",
       "      <th>5</th>\n",
       "      <td>(1.78, 1.9]</td>\n",
       "      <td>1.847727</td>\n",
       "      <td>-3.42</td>\n",
       "      <td>22</td>\n",
       "      <td>10</td>\n",
       "      <td>0.454545</td>\n",
       "      <td>-0.155455</td>\n",
       "      <td>0.541205</td>\n",
       "      <td>0.196298</td>\n",
       "      <td>-0.791930</td>\n",
       "    </tr>\n",
       "    <tr>\n",
       "      <th>6</th>\n",
       "      <td>(1.9, 1.96]</td>\n",
       "      <td>1.940000</td>\n",
       "      <td>5.35</td>\n",
       "      <td>18</td>\n",
       "      <td>12</td>\n",
       "      <td>0.666667</td>\n",
       "      <td>0.297222</td>\n",
       "      <td>0.515464</td>\n",
       "      <td>0.228522</td>\n",
       "      <td>1.300630</td>\n",
       "    </tr>\n",
       "    <tr>\n",
       "      <th>7</th>\n",
       "      <td>(1.96, 2.019]</td>\n",
       "      <td>1.987222</td>\n",
       "      <td>-0.13</td>\n",
       "      <td>18</td>\n",
       "      <td>9</td>\n",
       "      <td>0.500000</td>\n",
       "      <td>-0.007222</td>\n",
       "      <td>0.503215</td>\n",
       "      <td>0.234192</td>\n",
       "      <td>-0.030839</td>\n",
       "    </tr>\n",
       "    <tr>\n",
       "      <th>8</th>\n",
       "      <td>(2.019, 2.1]</td>\n",
       "      <td>2.059048</td>\n",
       "      <td>-2.58</td>\n",
       "      <td>21</td>\n",
       "      <td>9</td>\n",
       "      <td>0.428571</td>\n",
       "      <td>-0.122857</td>\n",
       "      <td>0.485661</td>\n",
       "      <td>0.224568</td>\n",
       "      <td>-0.547082</td>\n",
       "    </tr>\n",
       "    <tr>\n",
       "      <th>9</th>\n",
       "      <td>(2.1, 2.213]</td>\n",
       "      <td>2.148421</td>\n",
       "      <td>-6.24</td>\n",
       "      <td>19</td>\n",
       "      <td>6</td>\n",
       "      <td>0.315789</td>\n",
       "      <td>-0.328421</td>\n",
       "      <td>0.465458</td>\n",
       "      <td>0.245852</td>\n",
       "      <td>-1.335849</td>\n",
       "    </tr>\n",
       "    <tr>\n",
       "      <th>10</th>\n",
       "      <td>(2.213, 2.34]</td>\n",
       "      <td>2.286087</td>\n",
       "      <td>4.48</td>\n",
       "      <td>23</td>\n",
       "      <td>12</td>\n",
       "      <td>0.521739</td>\n",
       "      <td>0.194783</td>\n",
       "      <td>0.437429</td>\n",
       "      <td>0.236467</td>\n",
       "      <td>0.823719</td>\n",
       "    </tr>\n",
       "    <tr>\n",
       "      <th>11</th>\n",
       "      <td>(2.34, 2.44]</td>\n",
       "      <td>2.396842</td>\n",
       "      <td>2.52</td>\n",
       "      <td>19</td>\n",
       "      <td>9</td>\n",
       "      <td>0.473684</td>\n",
       "      <td>0.132632</td>\n",
       "      <td>0.417216</td>\n",
       "      <td>0.271142</td>\n",
       "      <td>0.489159</td>\n",
       "    </tr>\n",
       "    <tr>\n",
       "      <th>12</th>\n",
       "      <td>(2.44, 2.545]</td>\n",
       "      <td>2.497778</td>\n",
       "      <td>-3.00</td>\n",
       "      <td>18</td>\n",
       "      <td>6</td>\n",
       "      <td>0.333333</td>\n",
       "      <td>-0.166667</td>\n",
       "      <td>0.400356</td>\n",
       "      <td>0.288461</td>\n",
       "      <td>-0.577778</td>\n",
       "    </tr>\n",
       "    <tr>\n",
       "      <th>13</th>\n",
       "      <td>(2.545, 2.683]</td>\n",
       "      <td>2.623000</td>\n",
       "      <td>-4.24</td>\n",
       "      <td>20</td>\n",
       "      <td>6</td>\n",
       "      <td>0.300000</td>\n",
       "      <td>-0.212000</td>\n",
       "      <td>0.381243</td>\n",
       "      <td>0.284868</td>\n",
       "      <td>-0.744203</td>\n",
       "    </tr>\n",
       "    <tr>\n",
       "      <th>14</th>\n",
       "      <td>(2.683, 3.0]</td>\n",
       "      <td>2.779000</td>\n",
       "      <td>2.20</td>\n",
       "      <td>20</td>\n",
       "      <td>8</td>\n",
       "      <td>0.400000</td>\n",
       "      <td>0.110000</td>\n",
       "      <td>0.359842</td>\n",
       "      <td>0.298245</td>\n",
       "      <td>0.368824</td>\n",
       "    </tr>\n",
       "  </tbody>\n",
       "</table>\n",
       "</div>"
      ],
      "text/plain": [
       "       odds_factor  midpoint  profit  counts  wins  win_perc     yield  \\\n",
       "0    (1.169, 1.47]  1.359524    3.34      21    18  0.857143  0.159048   \n",
       "1     (1.47, 1.57]  1.527619   -1.20      21    13  0.619048 -0.057143   \n",
       "2     (1.57, 1.66]  1.626316   -2.73      19    10  0.526316 -0.143684   \n",
       "3     (1.66, 1.72]  1.695500    2.02      20    13  0.650000  0.101000   \n",
       "4     (1.72, 1.78]  1.756500   -0.66      20    11  0.550000 -0.033000   \n",
       "5      (1.78, 1.9]  1.847727   -3.42      22    10  0.454545 -0.155455   \n",
       "6      (1.9, 1.96]  1.940000    5.35      18    12  0.666667  0.297222   \n",
       "7    (1.96, 2.019]  1.987222   -0.13      18     9  0.500000 -0.007222   \n",
       "8     (2.019, 2.1]  2.059048   -2.58      21     9  0.428571 -0.122857   \n",
       "9     (2.1, 2.213]  2.148421   -6.24      19     6  0.315789 -0.328421   \n",
       "10   (2.213, 2.34]  2.286087    4.48      23    12  0.521739  0.194783   \n",
       "11    (2.34, 2.44]  2.396842    2.52      19     9  0.473684  0.132632   \n",
       "12   (2.44, 2.545]  2.497778   -3.00      18     6  0.333333 -0.166667   \n",
       "13  (2.545, 2.683]  2.623000   -4.24      20     6  0.300000 -0.212000   \n",
       "14    (2.683, 3.0]  2.779000    2.20      20     8  0.400000  0.110000   \n",
       "\n",
       "       p_win     stdev  nr_stdevs  \n",
       "0   0.735552  0.130844   1.215550  \n",
       "1   0.654613  0.158508  -0.360505  \n",
       "2   0.614887  0.181560  -0.791387  \n",
       "3   0.589797  0.186481   0.541611  \n",
       "4   0.569314  0.194487  -0.169678  \n",
       "5   0.541205  0.196298  -0.791930  \n",
       "6   0.515464  0.228522   1.300630  \n",
       "7   0.503215  0.234192  -0.030839  \n",
       "8   0.485661  0.224568  -0.547082  \n",
       "9   0.465458  0.245852  -1.335849  \n",
       "10  0.437429  0.236467   0.823719  \n",
       "11  0.417216  0.271142   0.489159  \n",
       "12  0.400356  0.288461  -0.577778  \n",
       "13  0.381243  0.284868  -0.744203  \n",
       "14  0.359842  0.298245   0.368824  "
      ]
     },
     "execution_count": 33,
     "metadata": {},
     "output_type": "execute_result"
    }
   ],
   "source": [
    "profit_table(df, mins15 = 0, homefav = False, bet = \"back_2\", buckets = 15, qcut = True)"
   ]
  },
  {
   "cell_type": "markdown",
   "metadata": {},
   "source": [
    "Betting on the away favourite leads to positive yields in the first category (big favourite). Around 1 standard deviation. However not too many observations..."
   ]
  },
  {
   "cell_type": "markdown",
   "metadata": {},
   "source": [
    "### home underdogs"
   ]
  },
  {
   "cell_type": "code",
   "execution_count": 37,
   "metadata": {},
   "outputs": [
    {
     "data": {
      "text/html": [
       "<div>\n",
       "<style scoped>\n",
       "    .dataframe tbody tr th:only-of-type {\n",
       "        vertical-align: middle;\n",
       "    }\n",
       "\n",
       "    .dataframe tbody tr th {\n",
       "        vertical-align: top;\n",
       "    }\n",
       "\n",
       "    .dataframe thead th {\n",
       "        text-align: right;\n",
       "    }\n",
       "</style>\n",
       "<table border=\"1\" class=\"dataframe\">\n",
       "  <thead>\n",
       "    <tr style=\"text-align: right;\">\n",
       "      <th></th>\n",
       "      <th>odds_factor</th>\n",
       "      <th>midpoint</th>\n",
       "      <th>profit</th>\n",
       "      <th>counts</th>\n",
       "      <th>wins</th>\n",
       "      <th>win_perc</th>\n",
       "      <th>yield</th>\n",
       "      <th>p_win</th>\n",
       "      <th>stdev</th>\n",
       "      <th>nr_stdevs</th>\n",
       "    </tr>\n",
       "  </thead>\n",
       "  <tbody>\n",
       "    <tr>\n",
       "      <th>0</th>\n",
       "      <td>(2.7390000000000003, 3.35]</td>\n",
       "      <td>3.074286</td>\n",
       "      <td>-21.94</td>\n",
       "      <td>77</td>\n",
       "      <td>18</td>\n",
       "      <td>0.233766</td>\n",
       "      <td>-0.284935</td>\n",
       "      <td>0.325279</td>\n",
       "      <td>0.164130</td>\n",
       "      <td>-1.736029</td>\n",
       "    </tr>\n",
       "    <tr>\n",
       "      <th>1</th>\n",
       "      <td>(3.35, 4.2]</td>\n",
       "      <td>3.803704</td>\n",
       "      <td>-5.40</td>\n",
       "      <td>81</td>\n",
       "      <td>20</td>\n",
       "      <td>0.246914</td>\n",
       "      <td>-0.066667</td>\n",
       "      <td>0.262902</td>\n",
       "      <td>0.186047</td>\n",
       "      <td>-0.358332</td>\n",
       "    </tr>\n",
       "    <tr>\n",
       "      <th>2</th>\n",
       "      <td>(4.2, 5.5]</td>\n",
       "      <td>4.871429</td>\n",
       "      <td>37.40</td>\n",
       "      <td>70</td>\n",
       "      <td>22</td>\n",
       "      <td>0.314286</td>\n",
       "      <td>0.534286</td>\n",
       "      <td>0.205279</td>\n",
       "      <td>0.235173</td>\n",
       "      <td>2.271888</td>\n",
       "    </tr>\n",
       "    <tr>\n",
       "      <th>3</th>\n",
       "      <td>(5.5, 19.0]</td>\n",
       "      <td>7.764789</td>\n",
       "      <td>-5.40</td>\n",
       "      <td>71</td>\n",
       "      <td>10</td>\n",
       "      <td>0.140845</td>\n",
       "      <td>-0.076056</td>\n",
       "      <td>0.128787</td>\n",
       "      <td>0.308673</td>\n",
       "      <td>-0.246398</td>\n",
       "    </tr>\n",
       "  </tbody>\n",
       "</table>\n",
       "</div>"
      ],
      "text/plain": [
       "                  odds_factor  midpoint  profit  counts  wins  win_perc  \\\n",
       "0  (2.7390000000000003, 3.35]  3.074286  -21.94      77    18  0.233766   \n",
       "1                 (3.35, 4.2]  3.803704   -5.40      81    20  0.246914   \n",
       "2                  (4.2, 5.5]  4.871429   37.40      70    22  0.314286   \n",
       "3                 (5.5, 19.0]  7.764789   -5.40      71    10  0.140845   \n",
       "\n",
       "      yield     p_win     stdev  nr_stdevs  \n",
       "0 -0.284935  0.325279  0.164130  -1.736029  \n",
       "1 -0.066667  0.262902  0.186047  -0.358332  \n",
       "2  0.534286  0.205279  0.235173   2.271888  \n",
       "3 -0.076056  0.128787  0.308673  -0.246398  "
      ]
     },
     "execution_count": 37,
     "metadata": {},
     "output_type": "execute_result"
    }
   ],
   "source": [
    "profit_table(df, mins15 = 0, homefav = False, bet = \"back_1\", buckets = 4, qcut = True)"
   ]
  },
  {
   "cell_type": "markdown",
   "metadata": {},
   "source": [
    "Medium home underdogs (>4.20 and <= 5.50) seem to be a good bet."
   ]
  },
  {
   "cell_type": "markdown",
   "metadata": {},
   "source": [
    "### away underdogs"
   ]
  },
  {
   "cell_type": "code",
   "execution_count": 56,
   "metadata": {},
   "outputs": [
    {
     "data": {
      "text/html": [
       "<div>\n",
       "<style scoped>\n",
       "    .dataframe tbody tr th:only-of-type {\n",
       "        vertical-align: middle;\n",
       "    }\n",
       "\n",
       "    .dataframe tbody tr th {\n",
       "        vertical-align: top;\n",
       "    }\n",
       "\n",
       "    .dataframe thead th {\n",
       "        text-align: right;\n",
       "    }\n",
       "</style>\n",
       "<table border=\"1\" class=\"dataframe\">\n",
       "  <thead>\n",
       "    <tr style=\"text-align: right;\">\n",
       "      <th></th>\n",
       "      <th>odds_factor</th>\n",
       "      <th>midpoint</th>\n",
       "      <th>profit</th>\n",
       "      <th>counts</th>\n",
       "      <th>wins</th>\n",
       "      <th>win_perc</th>\n",
       "      <th>yield</th>\n",
       "      <th>p_win</th>\n",
       "      <th>stdev</th>\n",
       "      <th>nr_stdevs</th>\n",
       "    </tr>\n",
       "  </thead>\n",
       "  <tbody>\n",
       "    <tr>\n",
       "      <th>0</th>\n",
       "      <td>(2.6790000000000003, 3.9]</td>\n",
       "      <td>3.304396</td>\n",
       "      <td>-23.77</td>\n",
       "      <td>182</td>\n",
       "      <td>49</td>\n",
       "      <td>0.269231</td>\n",
       "      <td>-0.130604</td>\n",
       "      <td>0.302627</td>\n",
       "      <td>0.112523</td>\n",
       "      <td>-1.160687</td>\n",
       "    </tr>\n",
       "    <tr>\n",
       "      <th>1</th>\n",
       "      <td>(3.9, 5.4]</td>\n",
       "      <td>4.559615</td>\n",
       "      <td>-21.15</td>\n",
       "      <td>182</td>\n",
       "      <td>36</td>\n",
       "      <td>0.197802</td>\n",
       "      <td>-0.116209</td>\n",
       "      <td>0.219317</td>\n",
       "      <td>0.139851</td>\n",
       "      <td>-0.830947</td>\n",
       "    </tr>\n",
       "    <tr>\n",
       "      <th>2</th>\n",
       "      <td>(5.4, 34.0]</td>\n",
       "      <td>8.300000</td>\n",
       "      <td>39.20</td>\n",
       "      <td>177</td>\n",
       "      <td>30</td>\n",
       "      <td>0.169492</td>\n",
       "      <td>0.221469</td>\n",
       "      <td>0.120482</td>\n",
       "      <td>0.203084</td>\n",
       "      <td>1.090531</td>\n",
       "    </tr>\n",
       "  </tbody>\n",
       "</table>\n",
       "</div>"
      ],
      "text/plain": [
       "                 odds_factor  midpoint  profit  counts  wins  win_perc  \\\n",
       "0  (2.6790000000000003, 3.9]  3.304396  -23.77     182    49  0.269231   \n",
       "1                 (3.9, 5.4]  4.559615  -21.15     182    36  0.197802   \n",
       "2                (5.4, 34.0]  8.300000   39.20     177    30  0.169492   \n",
       "\n",
       "      yield     p_win     stdev  nr_stdevs  \n",
       "0 -0.130604  0.302627  0.112523  -1.160687  \n",
       "1 -0.116209  0.219317  0.139851  -0.830947  \n",
       "2  0.221469  0.120482  0.203084   1.090531  "
      ]
     },
     "execution_count": 56,
     "metadata": {},
     "output_type": "execute_result"
    }
   ],
   "source": [
    "profit_table(df, mins15 = 0, homefav = True, bet = \"back_2\", buckets = 3, qcut = True)"
   ]
  },
  {
   "cell_type": "markdown",
   "metadata": {},
   "source": [
    "Also here, big away underdogs (between 5.40 and 10) seem to be a good bet, however just 1 standard deviation."
   ]
  },
  {
   "cell_type": "markdown",
   "metadata": {},
   "source": [
    "### draws with home favourite"
   ]
  },
  {
   "cell_type": "code",
   "execution_count": 62,
   "metadata": {},
   "outputs": [
    {
     "data": {
      "text/html": [
       "<div>\n",
       "<style scoped>\n",
       "    .dataframe tbody tr th:only-of-type {\n",
       "        vertical-align: middle;\n",
       "    }\n",
       "\n",
       "    .dataframe tbody tr th {\n",
       "        vertical-align: top;\n",
       "    }\n",
       "\n",
       "    .dataframe thead th {\n",
       "        text-align: right;\n",
       "    }\n",
       "</style>\n",
       "<table border=\"1\" class=\"dataframe\">\n",
       "  <thead>\n",
       "    <tr style=\"text-align: right;\">\n",
       "      <th></th>\n",
       "      <th>odds_factor</th>\n",
       "      <th>midpoint</th>\n",
       "      <th>profit</th>\n",
       "      <th>counts</th>\n",
       "      <th>wins</th>\n",
       "      <th>win_perc</th>\n",
       "      <th>yield</th>\n",
       "      <th>p_win</th>\n",
       "      <th>stdev</th>\n",
       "      <th>nr_stdevs</th>\n",
       "    </tr>\n",
       "  </thead>\n",
       "  <tbody>\n",
       "    <tr>\n",
       "      <th>0</th>\n",
       "      <td>(2.779, 3.4]</td>\n",
       "      <td>3.204921</td>\n",
       "      <td>-3.36</td>\n",
       "      <td>126</td>\n",
       "      <td>38</td>\n",
       "      <td>0.301587</td>\n",
       "      <td>-0.026667</td>\n",
       "      <td>0.312020</td>\n",
       "      <td>0.132285</td>\n",
       "      <td>-0.201585</td>\n",
       "    </tr>\n",
       "    <tr>\n",
       "      <th>1</th>\n",
       "      <td>(3.4, 3.6]</td>\n",
       "      <td>3.530392</td>\n",
       "      <td>50.05</td>\n",
       "      <td>102</td>\n",
       "      <td>43</td>\n",
       "      <td>0.421569</td>\n",
       "      <td>0.490686</td>\n",
       "      <td>0.283255</td>\n",
       "      <td>0.157505</td>\n",
       "      <td>3.115373</td>\n",
       "    </tr>\n",
       "    <tr>\n",
       "      <th>2</th>\n",
       "      <td>(3.6, 3.9]</td>\n",
       "      <td>3.770833</td>\n",
       "      <td>15.80</td>\n",
       "      <td>120</td>\n",
       "      <td>36</td>\n",
       "      <td>0.300000</td>\n",
       "      <td>0.131667</td>\n",
       "      <td>0.265193</td>\n",
       "      <td>0.151955</td>\n",
       "      <td>0.866485</td>\n",
       "    </tr>\n",
       "    <tr>\n",
       "      <th>3</th>\n",
       "      <td>(3.9, 4.3]</td>\n",
       "      <td>4.086628</td>\n",
       "      <td>-8.30</td>\n",
       "      <td>86</td>\n",
       "      <td>19</td>\n",
       "      <td>0.220930</td>\n",
       "      <td>-0.096512</td>\n",
       "      <td>0.244701</td>\n",
       "      <td>0.189449</td>\n",
       "      <td>-0.509433</td>\n",
       "    </tr>\n",
       "    <tr>\n",
       "      <th>4</th>\n",
       "      <td>(4.3, 12.0]</td>\n",
       "      <td>5.542991</td>\n",
       "      <td>-24.60</td>\n",
       "      <td>107</td>\n",
       "      <td>16</td>\n",
       "      <td>0.149533</td>\n",
       "      <td>-0.229907</td>\n",
       "      <td>0.180408</td>\n",
       "      <td>0.206053</td>\n",
       "      <td>-1.115764</td>\n",
       "    </tr>\n",
       "  </tbody>\n",
       "</table>\n",
       "</div>"
      ],
      "text/plain": [
       "    odds_factor  midpoint  profit  counts  wins  win_perc     yield     p_win  \\\n",
       "0  (2.779, 3.4]  3.204921   -3.36     126    38  0.301587 -0.026667  0.312020   \n",
       "1    (3.4, 3.6]  3.530392   50.05     102    43  0.421569  0.490686  0.283255   \n",
       "2    (3.6, 3.9]  3.770833   15.80     120    36  0.300000  0.131667  0.265193   \n",
       "3    (3.9, 4.3]  4.086628   -8.30      86    19  0.220930 -0.096512  0.244701   \n",
       "4   (4.3, 12.0]  5.542991  -24.60     107    16  0.149533 -0.229907  0.180408   \n",
       "\n",
       "      stdev  nr_stdevs  \n",
       "0  0.132285  -0.201585  \n",
       "1  0.157505   3.115373  \n",
       "2  0.151955   0.866485  \n",
       "3  0.189449  -0.509433  \n",
       "4  0.206053  -1.115764  "
      ]
     },
     "execution_count": 62,
     "metadata": {},
     "output_type": "execute_result"
    }
   ],
   "source": [
    "profit_table(df, mins15 = 0, homefav = True, bet = \"back_X\", buckets = 5, qcut = True)"
   ]
  },
  {
   "cell_type": "markdown",
   "metadata": {},
   "source": [
    "Betting the draw seems to be quite a good idea when the home team is medium favourite. Draw quote between 3.40 and 3.90"
   ]
  },
  {
   "cell_type": "markdown",
   "metadata": {},
   "source": [
    "### draws with away favourite"
   ]
  },
  {
   "cell_type": "code",
   "execution_count": 65,
   "metadata": {},
   "outputs": [
    {
     "data": {
      "text/html": [
       "<div>\n",
       "<style scoped>\n",
       "    .dataframe tbody tr th:only-of-type {\n",
       "        vertical-align: middle;\n",
       "    }\n",
       "\n",
       "    .dataframe tbody tr th {\n",
       "        vertical-align: top;\n",
       "    }\n",
       "\n",
       "    .dataframe thead th {\n",
       "        text-align: right;\n",
       "    }\n",
       "</style>\n",
       "<table border=\"1\" class=\"dataframe\">\n",
       "  <thead>\n",
       "    <tr style=\"text-align: right;\">\n",
       "      <th></th>\n",
       "      <th>odds_factor</th>\n",
       "      <th>midpoint</th>\n",
       "      <th>profit</th>\n",
       "      <th>counts</th>\n",
       "      <th>wins</th>\n",
       "      <th>win_perc</th>\n",
       "      <th>yield</th>\n",
       "      <th>p_win</th>\n",
       "      <th>stdev</th>\n",
       "      <th>nr_stdevs</th>\n",
       "    </tr>\n",
       "  </thead>\n",
       "  <tbody>\n",
       "    <tr>\n",
       "      <th>0</th>\n",
       "      <td>(2.799, 3.6]</td>\n",
       "      <td>3.381635</td>\n",
       "      <td>31.30</td>\n",
       "      <td>104</td>\n",
       "      <td>40</td>\n",
       "      <td>0.384615</td>\n",
       "      <td>0.300962</td>\n",
       "      <td>0.295715</td>\n",
       "      <td>0.151329</td>\n",
       "      <td>1.988795</td>\n",
       "    </tr>\n",
       "    <tr>\n",
       "      <th>1</th>\n",
       "      <td>(3.6, 4.0]</td>\n",
       "      <td>3.826768</td>\n",
       "      <td>-3.45</td>\n",
       "      <td>99</td>\n",
       "      <td>25</td>\n",
       "      <td>0.252525</td>\n",
       "      <td>-0.034848</td>\n",
       "      <td>0.261317</td>\n",
       "      <td>0.168977</td>\n",
       "      <td>-0.206232</td>\n",
       "    </tr>\n",
       "    <tr>\n",
       "      <th>2</th>\n",
       "      <td>(4.0, 10.0]</td>\n",
       "      <td>4.821875</td>\n",
       "      <td>-40.10</td>\n",
       "      <td>96</td>\n",
       "      <td>12</td>\n",
       "      <td>0.125000</td>\n",
       "      <td>-0.417708</td>\n",
       "      <td>0.207388</td>\n",
       "      <td>0.199527</td>\n",
       "      <td>-2.093488</td>\n",
       "    </tr>\n",
       "  </tbody>\n",
       "</table>\n",
       "</div>"
      ],
      "text/plain": [
       "    odds_factor  midpoint  profit  counts  wins  win_perc     yield     p_win  \\\n",
       "0  (2.799, 3.6]  3.381635   31.30     104    40  0.384615  0.300962  0.295715   \n",
       "1    (3.6, 4.0]  3.826768   -3.45      99    25  0.252525 -0.034848  0.261317   \n",
       "2   (4.0, 10.0]  4.821875  -40.10      96    12  0.125000 -0.417708  0.207388   \n",
       "\n",
       "      stdev  nr_stdevs  \n",
       "0  0.151329   1.988795  \n",
       "1  0.168977  -0.206232  \n",
       "2  0.199527  -2.093488  "
      ]
     },
     "execution_count": 65,
     "metadata": {},
     "output_type": "execute_result"
    }
   ],
   "source": [
    "profit_table(df, mins15 = 0, homefav = False, bet = \"back_X\", buckets = 3, qcut = True)"
   ]
  },
  {
   "cell_type": "markdown",
   "metadata": {},
   "source": [
    "Betting the draw also seems to be quite a good idea when the away team is slight favourite (draw quote <=3.60)"
   ]
  },
  {
   "cell_type": "markdown",
   "metadata": {},
   "source": [
    "# Conclusion"
   ]
  },
  {
   "cell_type": "markdown",
   "metadata": {},
   "source": [
    "For our sample dataset the winning strategies were:\n",
    "- betting on the big away favourites\n",
    "- betting on the medium home underdogs\n",
    "- betting on the big away underdogs\n",
    "- betting on the draw when the home team is medium favourite\n",
    "- betting on the draw when the away team is slight favourite"
   ]
  },
  {
   "cell_type": "markdown",
   "metadata": {},
   "source": [
    "<img src=\"../0 images/strategy.png\">"
   ]
  },
  {
   "cell_type": "markdown",
   "metadata": {},
   "source": [
    "Of course we are fully aware that this is not sound analysis. When investigating all the options in a sample set we will always find a \"winning\" strategy, just like in this [xkcd cartoon](https://xkcd.com/882/). We at least need an out-of-sample test."
   ]
  },
  {
   "cell_type": "markdown",
   "metadata": {},
   "source": [
    "### Some aftermath... Is there a general bias towards draw?"
   ]
  },
  {
   "cell_type": "markdown",
   "metadata": {},
   "source": [
    "Betting the draw for slight away and medium home favourites seems to be the strategy backed by the most evidence (highest stdevs). Probably this is because our sample set has a general bias towards the draw. Let's investigate this."
   ]
  },
  {
   "cell_type": "code",
   "execution_count": 66,
   "metadata": {},
   "outputs": [],
   "source": [
    "def alldraws_profit_table(df, buckets = 1, qcut = True):\n",
    "    #subset, always bet the draw\n",
    "    df_sub = df[(df['mins15'] == 0)].copy()\n",
    "    df_sub.loc[:,'win'] = 0\n",
    "    df_sub.loc[(df_sub['endscore_label']=='F+0'),'win'] = 1\n",
    "    df_sub['p_X'] = 1/df_sub['back_X'] #the probability for the draw implied by the bookmaker odds\n",
    "    \n",
    "    #split\n",
    "    if qcut:\n",
    "        df_sub['p_X_factor'] = pd.qcut(df_sub['p_X'],buckets)\n",
    "    else:\n",
    "        df_sub['p_X_factor'] = pd.cut(df_sub['p_X'],buckets) \n",
    "    \n",
    "    #implied p_X per category\n",
    "    px = pd.DataFrame(df_sub.groupby('p_X_factor')['p_X'].mean())\n",
    "    \n",
    "    #midpoint, count, X_odds, stdev per category\n",
    "    counts = pd.DataFrame(df_sub.groupby('p_X_factor')['p_X_factor'].count())\n",
    "    table = px.join(counts)\n",
    "    table.columns = ['p_X_mean','count']\n",
    "    table['X_odds'] = round(1/table['p_X_mean'],2)\n",
    "    table['stdev'] = np.sqrt(table['p_X_mean'] - table['p_X_mean'].pow(2)) / np.sqrt(table['count'])\n",
    "    \n",
    "    #actual draw occurences per category, and nr_stdevs difference from implied p_X\n",
    "    xsum = pd.DataFrame(df_sub.groupby('p_X_factor')['win'].sum())\n",
    "    table = table.join(xsum)\n",
    "    table.columns = ['p_X_mean','count','X_odds','stdev', 'X_wins']\n",
    "    xmean = pd.DataFrame(df_sub.groupby('p_X_factor')['win'].mean())\n",
    "    table = table.join(xmean)\n",
    "    table.columns = ['p_X_mean','count','X_odds','stdev', 'X_wins','X_wins_perc']\n",
    "    table['X_diff'] = table['X_wins_perc'] - table['p_X_mean']\n",
    "    table['n_stdevs'] = table['X_diff'] / table['stdev']\n",
    "    \n",
    "    return table"
   ]
  },
  {
   "cell_type": "code",
   "execution_count": 67,
   "metadata": {},
   "outputs": [
    {
     "data": {
      "text/html": [
       "<div>\n",
       "<style scoped>\n",
       "    .dataframe tbody tr th:only-of-type {\n",
       "        vertical-align: middle;\n",
       "    }\n",
       "\n",
       "    .dataframe tbody tr th {\n",
       "        vertical-align: top;\n",
       "    }\n",
       "\n",
       "    .dataframe thead th {\n",
       "        text-align: right;\n",
       "    }\n",
       "</style>\n",
       "<table border=\"1\" class=\"dataframe\">\n",
       "  <thead>\n",
       "    <tr style=\"text-align: right;\">\n",
       "      <th></th>\n",
       "      <th>p_X_mean</th>\n",
       "      <th>count</th>\n",
       "      <th>X_odds</th>\n",
       "      <th>stdev</th>\n",
       "      <th>X_wins</th>\n",
       "      <th>X_wins_perc</th>\n",
       "      <th>X_diff</th>\n",
       "      <th>n_stdevs</th>\n",
       "    </tr>\n",
       "    <tr>\n",
       "      <th>p_X_factor</th>\n",
       "      <th></th>\n",
       "      <th></th>\n",
       "      <th></th>\n",
       "      <th></th>\n",
       "      <th></th>\n",
       "      <th></th>\n",
       "      <th></th>\n",
       "      <th></th>\n",
       "    </tr>\n",
       "  </thead>\n",
       "  <tbody>\n",
       "    <tr>\n",
       "      <th>(0.0823, 0.36]</th>\n",
       "      <td>0.260418</td>\n",
       "      <td>840</td>\n",
       "      <td>3.84</td>\n",
       "      <td>0.015142</td>\n",
       "      <td>229</td>\n",
       "      <td>0.272619</td>\n",
       "      <td>0.012201</td>\n",
       "      <td>0.805762</td>\n",
       "    </tr>\n",
       "  </tbody>\n",
       "</table>\n",
       "</div>"
      ],
      "text/plain": [
       "                p_X_mean  count  X_odds     stdev  X_wins  X_wins_perc  \\\n",
       "p_X_factor                                                               \n",
       "(0.0823, 0.36]  0.260418    840    3.84  0.015142     229     0.272619   \n",
       "\n",
       "                  X_diff  n_stdevs  \n",
       "p_X_factor                          \n",
       "(0.0823, 0.36]  0.012201  0.805762  "
      ]
     },
     "execution_count": 67,
     "metadata": {},
     "output_type": "execute_result"
    }
   ],
   "source": [
    "alldraws_profit_table(df, buckets = 1, qcut = True)"
   ]
  },
  {
   "cell_type": "markdown",
   "metadata": {},
   "source": [
    "So yes, in our dataset there are more draws than were implied by the quotes. Almost 1 stdev over 840 observations."
   ]
  },
  {
   "cell_type": "markdown",
   "metadata": {},
   "source": [
    "This is especially true for the medium-low draw quotes (odds between 3.25 and 3.90):"
   ]
  },
  {
   "cell_type": "code",
   "execution_count": 68,
   "metadata": {},
   "outputs": [
    {
     "data": {
      "text/html": [
       "<div>\n",
       "<style scoped>\n",
       "    .dataframe tbody tr th:only-of-type {\n",
       "        vertical-align: middle;\n",
       "    }\n",
       "\n",
       "    .dataframe tbody tr th {\n",
       "        vertical-align: top;\n",
       "    }\n",
       "\n",
       "    .dataframe thead th {\n",
       "        text-align: right;\n",
       "    }\n",
       "</style>\n",
       "<table border=\"1\" class=\"dataframe\">\n",
       "  <thead>\n",
       "    <tr style=\"text-align: right;\">\n",
       "      <th></th>\n",
       "      <th>p_X_mean</th>\n",
       "      <th>count</th>\n",
       "      <th>X_odds</th>\n",
       "      <th>stdev</th>\n",
       "      <th>X_wins</th>\n",
       "      <th>X_wins_perc</th>\n",
       "      <th>X_diff</th>\n",
       "      <th>n_stdevs</th>\n",
       "    </tr>\n",
       "    <tr>\n",
       "      <th>p_X_factor</th>\n",
       "      <th></th>\n",
       "      <th></th>\n",
       "      <th></th>\n",
       "      <th></th>\n",
       "      <th></th>\n",
       "      <th></th>\n",
       "      <th></th>\n",
       "      <th></th>\n",
       "    </tr>\n",
       "  </thead>\n",
       "  <tbody>\n",
       "    <tr>\n",
       "      <th>(0.0823, 0.222]</th>\n",
       "      <td>0.189042</td>\n",
       "      <td>151</td>\n",
       "      <td>5.29</td>\n",
       "      <td>0.031863</td>\n",
       "      <td>22</td>\n",
       "      <td>0.145695</td>\n",
       "      <td>-0.043347</td>\n",
       "      <td>-1.360397</td>\n",
       "    </tr>\n",
       "    <tr>\n",
       "      <th>(0.222, 0.25]</th>\n",
       "      <td>0.241036</td>\n",
       "      <td>138</td>\n",
       "      <td>4.15</td>\n",
       "      <td>0.036409</td>\n",
       "      <td>27</td>\n",
       "      <td>0.195652</td>\n",
       "      <td>-0.045383</td>\n",
       "      <td>-1.246479</td>\n",
       "    </tr>\n",
       "    <tr>\n",
       "      <th>(0.25, 0.267]</th>\n",
       "      <td>0.259711</td>\n",
       "      <td>147</td>\n",
       "      <td>3.85</td>\n",
       "      <td>0.036165</td>\n",
       "      <td>41</td>\n",
       "      <td>0.278912</td>\n",
       "      <td>0.019200</td>\n",
       "      <td>0.530914</td>\n",
       "    </tr>\n",
       "    <tr>\n",
       "      <th>(0.267, 0.282]</th>\n",
       "      <td>0.276306</td>\n",
       "      <td>155</td>\n",
       "      <td>3.62</td>\n",
       "      <td>0.035918</td>\n",
       "      <td>54</td>\n",
       "      <td>0.348387</td>\n",
       "      <td>0.072081</td>\n",
       "      <td>2.006849</td>\n",
       "    </tr>\n",
       "    <tr>\n",
       "      <th>(0.282, 0.299]</th>\n",
       "      <td>0.291123</td>\n",
       "      <td>123</td>\n",
       "      <td>3.43</td>\n",
       "      <td>0.040961</td>\n",
       "      <td>45</td>\n",
       "      <td>0.365854</td>\n",
       "      <td>0.074730</td>\n",
       "      <td>1.824424</td>\n",
       "    </tr>\n",
       "    <tr>\n",
       "      <th>(0.299, 0.36]</th>\n",
       "      <td>0.318490</td>\n",
       "      <td>126</td>\n",
       "      <td>3.14</td>\n",
       "      <td>0.041505</td>\n",
       "      <td>40</td>\n",
       "      <td>0.317460</td>\n",
       "      <td>-0.001030</td>\n",
       "      <td>-0.024815</td>\n",
       "    </tr>\n",
       "  </tbody>\n",
       "</table>\n",
       "</div>"
      ],
      "text/plain": [
       "                 p_X_mean  count  X_odds     stdev  X_wins  X_wins_perc  \\\n",
       "p_X_factor                                                                \n",
       "(0.0823, 0.222]  0.189042    151    5.29  0.031863      22     0.145695   \n",
       "(0.222, 0.25]    0.241036    138    4.15  0.036409      27     0.195652   \n",
       "(0.25, 0.267]    0.259711    147    3.85  0.036165      41     0.278912   \n",
       "(0.267, 0.282]   0.276306    155    3.62  0.035918      54     0.348387   \n",
       "(0.282, 0.299]   0.291123    123    3.43  0.040961      45     0.365854   \n",
       "(0.299, 0.36]    0.318490    126    3.14  0.041505      40     0.317460   \n",
       "\n",
       "                   X_diff  n_stdevs  \n",
       "p_X_factor                           \n",
       "(0.0823, 0.222] -0.043347 -1.360397  \n",
       "(0.222, 0.25]   -0.045383 -1.246479  \n",
       "(0.25, 0.267]    0.019200  0.530914  \n",
       "(0.267, 0.282]   0.072081  2.006849  \n",
       "(0.282, 0.299]   0.074730  1.824424  \n",
       "(0.299, 0.36]   -0.001030 -0.024815  "
      ]
     },
     "execution_count": 68,
     "metadata": {},
     "output_type": "execute_result"
    }
   ],
   "source": [
    "alldraws_profit_table(df, buckets = 6, qcut = True)"
   ]
  },
  {
   "cell_type": "code",
   "execution_count": 69,
   "metadata": {},
   "outputs": [
    {
     "data": {
      "text/html": [
       "<div>\n",
       "<style scoped>\n",
       "    .dataframe tbody tr th:only-of-type {\n",
       "        vertical-align: middle;\n",
       "    }\n",
       "\n",
       "    .dataframe tbody tr th {\n",
       "        vertical-align: top;\n",
       "    }\n",
       "\n",
       "    .dataframe thead th {\n",
       "        text-align: right;\n",
       "    }\n",
       "</style>\n",
       "<table border=\"1\" class=\"dataframe\">\n",
       "  <thead>\n",
       "    <tr style=\"text-align: right;\">\n",
       "      <th></th>\n",
       "      <th>p_X_mean</th>\n",
       "      <th>count</th>\n",
       "      <th>X_odds</th>\n",
       "      <th>stdev</th>\n",
       "      <th>X_wins</th>\n",
       "      <th>X_wins_perc</th>\n",
       "      <th>X_diff</th>\n",
       "      <th>n_stdevs</th>\n",
       "    </tr>\n",
       "    <tr>\n",
       "      <th>p_X_factor</th>\n",
       "      <th></th>\n",
       "      <th></th>\n",
       "      <th></th>\n",
       "      <th></th>\n",
       "      <th></th>\n",
       "      <th></th>\n",
       "      <th></th>\n",
       "      <th></th>\n",
       "    </tr>\n",
       "  </thead>\n",
       "  <tbody>\n",
       "    <tr>\n",
       "      <th>(0.0831, 0.152]</th>\n",
       "      <td>0.121746</td>\n",
       "      <td>21</td>\n",
       "      <td>8.21</td>\n",
       "      <td>0.071355</td>\n",
       "      <td>1</td>\n",
       "      <td>0.047619</td>\n",
       "      <td>-0.074127</td>\n",
       "      <td>-1.038835</td>\n",
       "    </tr>\n",
       "    <tr>\n",
       "      <th>(0.152, 0.222]</th>\n",
       "      <td>0.197003</td>\n",
       "      <td>115</td>\n",
       "      <td>5.08</td>\n",
       "      <td>0.037089</td>\n",
       "      <td>17</td>\n",
       "      <td>0.147826</td>\n",
       "      <td>-0.049177</td>\n",
       "      <td>-1.325920</td>\n",
       "    </tr>\n",
       "    <tr>\n",
       "      <th>(0.222, 0.291]</th>\n",
       "      <td>0.262418</td>\n",
       "      <td>526</td>\n",
       "      <td>3.81</td>\n",
       "      <td>0.019183</td>\n",
       "      <td>154</td>\n",
       "      <td>0.292776</td>\n",
       "      <td>0.030358</td>\n",
       "      <td>1.582559</td>\n",
       "    </tr>\n",
       "    <tr>\n",
       "      <th>(0.291, 0.36]</th>\n",
       "      <td>0.311839</td>\n",
       "      <td>178</td>\n",
       "      <td>3.21</td>\n",
       "      <td>0.034722</td>\n",
       "      <td>57</td>\n",
       "      <td>0.320225</td>\n",
       "      <td>0.008386</td>\n",
       "      <td>0.241520</td>\n",
       "    </tr>\n",
       "  </tbody>\n",
       "</table>\n",
       "</div>"
      ],
      "text/plain": [
       "                 p_X_mean  count  X_odds     stdev  X_wins  X_wins_perc  \\\n",
       "p_X_factor                                                                \n",
       "(0.0831, 0.152]  0.121746     21    8.21  0.071355       1     0.047619   \n",
       "(0.152, 0.222]   0.197003    115    5.08  0.037089      17     0.147826   \n",
       "(0.222, 0.291]   0.262418    526    3.81  0.019183     154     0.292776   \n",
       "(0.291, 0.36]    0.311839    178    3.21  0.034722      57     0.320225   \n",
       "\n",
       "                   X_diff  n_stdevs  \n",
       "p_X_factor                           \n",
       "(0.0831, 0.152] -0.074127 -1.038835  \n",
       "(0.152, 0.222]  -0.049177 -1.325920  \n",
       "(0.222, 0.291]   0.030358  1.582559  \n",
       "(0.291, 0.36]    0.008386  0.241520  "
      ]
     },
     "execution_count": 69,
     "metadata": {},
     "output_type": "execute_result"
    }
   ],
   "source": [
    "alldraws_profit_table(df, buckets = 4, qcut = False)"
   ]
  },
  {
   "cell_type": "markdown",
   "metadata": {},
   "source": [
    "Only an out-of-sample test can tell us whether this is by chance or because of people who don't like to bet on draws (supply/demand)."
   ]
  }
 ],
 "metadata": {
  "kernelspec": {
   "display_name": "Python 3",
   "language": "python",
   "name": "python3"
  },
  "language_info": {
   "codemirror_mode": {
    "name": "ipython",
    "version": 3
   },
   "file_extension": ".py",
   "mimetype": "text/x-python",
   "name": "python",
   "nbconvert_exporter": "python",
   "pygments_lexer": "ipython3",
   "version": "3.7.6"
  }
 },
 "nbformat": 4,
 "nbformat_minor": 4
}
